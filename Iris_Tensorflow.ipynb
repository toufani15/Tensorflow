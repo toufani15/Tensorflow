{
 "cells": [
  {
   "cell_type": "code",
   "execution_count": null,
   "metadata": {},
   "outputs": [],
   "source": [
    "import tensorflow as tf\n",
    "from sklearn import datasets\n",
    "import pandas as pd\n",
    "import numpy as np\n",
    "import matplotlib.pyplot as plt"
   ]
  },
  {
   "cell_type": "code",
   "execution_count": 2,
   "metadata": {},
   "outputs": [],
   "source": [
    "sess = tf.Session()"
   ]
  },
  {
   "cell_type": "markdown",
   "metadata": {},
   "source": [
    "### KASUSNYA ADALAH MENGELOMPOKAN SETOSA ATAU NGGAK (BINARY), SEMENTARA DATASET KITA MEMILIKI 3 CLASS"
   ]
  },
  {
   "cell_type": "code",
   "execution_count": 3,
   "metadata": {},
   "outputs": [],
   "source": [
    "iris = datasets.load_iris()\n",
    "binary_target = np.array([1. if x==0 else 0. for x in iris.target])\n",
    "iris_2d = np.array([[x[2], x[3]] for x in iris.data]) # kita cuma ingin melatih kolom ke-2 dan ke-3 pada data iris"
   ]
  },
  {
   "cell_type": "code",
   "execution_count": 62,
   "metadata": {},
   "outputs": [
    {
     "name": "stdout",
     "output_type": "stream",
     "text": [
      "[0 0 0 0 0 0 0 0 0 0 0 0 0 0 0 0 0 0 0 0 0 0 0 0 0 0 0 0 0 0 0 0 0 0 0 0 0\n",
      " 0 0 0 0 0 0 0 0 0 0 0 0 0 1 1 1 1 1 1 1 1 1 1 1 1 1 1 1 1 1 1 1 1 1 1 1 1\n",
      " 1 1 1 1 1 1 1 1 1 1 1 1 1 1 1 1 1 1 1 1 1 1 1 1 1 1 2 2 2 2 2 2 2 2 2 2 2\n",
      " 2 2 2 2 2 2 2 2 2 2 2 2 2 2 2 2 2 2 2 2 2 2 2 2 2 2 2 2 2 2 2 2 2 2 2 2 2\n",
      " 2 2]\n",
      "\n",
      "[1, 1, 1, 1, 1, 1, 1, 1, 1, 1, 1, 1, 1, 1, 1, 1, 1, 1, 1, 1, 1, 1, 1, 1, 1, 1, 1, 1, 1, 1, 1, 1, 1, 1, 1, 1, 1, 1, 1, 1, 1, 1, 1, 1, 1, 1, 1, 1, 1, 1, 0.0, 0.0, 0.0, 0.0, 0.0, 0.0, 0.0, 0.0, 0.0, 0.0, 0.0, 0.0, 0.0, 0.0, 0.0, 0.0, 0.0, 0.0, 0.0, 0.0, 0.0, 0.0, 0.0, 0.0, 0.0, 0.0, 0.0, 0.0, 0.0, 0.0, 0.0, 0.0, 0.0, 0.0, 0.0, 0.0, 0.0, 0.0, 0.0, 0.0, 0.0, 0.0, 0.0, 0.0, 0.0, 0.0, 0.0, 0.0, 0.0, 0.0, 0.0, 0.0, 0.0, 0.0, 0.0, 0.0, 0.0, 0.0, 0.0, 0.0, 0.0, 0.0, 0.0, 0.0, 0.0, 0.0, 0.0, 0.0, 0.0, 0.0, 0.0, 0.0, 0.0, 0.0, 0.0, 0.0, 0.0, 0.0, 0.0, 0.0, 0.0, 0.0, 0.0, 0.0, 0.0, 0.0, 0.0, 0.0, 0.0, 0.0, 0.0, 0.0, 0.0, 0.0, 0.0, 0.0, 0.0, 0.0, 0.0, 0.0]\n"
     ]
    }
   ],
   "source": [
    "print(iris.target)\n",
    "print()\n",
    "print([1 if x == 0 else 0. for x in iris.target])"
   ]
  },
  {
   "cell_type": "markdown",
   "metadata": {},
   "source": [
    "#### MEMAHAMI ISI DAN BENTUK DATASET"
   ]
  },
  {
   "cell_type": "code",
   "execution_count": 4,
   "metadata": {},
   "outputs": [
    {
     "name": "stdout",
     "output_type": "stream",
     "text": [
      "iris \n",
      " [[5.1 3.5 1.4 0.2]\n",
      " [4.9 3.  1.4 0.2]\n",
      " [4.7 3.2 1.3 0.2]\n",
      " [4.6 3.1 1.5 0.2]\n",
      " [5.  3.6 1.4 0.2]] \n",
      "\n",
      "binary target \n",
      " [1. 1. 1. 1. 1. 1. 1. 1. 1. 1. 1. 1. 1. 1. 1. 1. 1. 1. 1. 1. 1. 1. 1. 1.\n",
      " 1. 1. 1. 1. 1. 1. 1. 1. 1. 1. 1. 1. 1. 1. 1. 1. 1. 1. 1. 1. 1. 1. 1. 1.\n",
      " 1. 1. 0. 0. 0. 0. 0. 0. 0. 0. 0. 0. 0. 0. 0. 0. 0. 0. 0. 0. 0. 0. 0. 0.\n",
      " 0. 0. 0. 0. 0. 0. 0. 0. 0. 0. 0. 0. 0. 0. 0. 0. 0. 0. 0. 0. 0. 0. 0. 0.\n",
      " 0. 0. 0. 0. 0. 0. 0. 0. 0. 0. 0. 0. 0. 0. 0. 0. 0. 0. 0. 0. 0. 0. 0. 0.\n",
      " 0. 0. 0. 0. 0. 0. 0. 0. 0. 0. 0. 0. 0. 0. 0. 0. 0. 0. 0. 0. 0. 0. 0. 0.\n",
      " 0. 0. 0. 0. 0. 0.] \n",
      "\n",
      "iris_2d \n",
      " [[1.4 0.2]\n",
      " [1.4 0.2]\n",
      " [1.3 0.2]\n",
      " [1.5 0.2]\n",
      " [1.4 0.2]] \n",
      "\n",
      "iris =  (150, 4) \n",
      "\n",
      "binary target =  (150,) \n",
      "\n",
      "iris_2d =  (150, 2) \n",
      "\n"
     ]
    }
   ],
   "source": [
    "# apa sih isi ketiganya ?\n",
    "print('iris \\n',iris['data'][:5], '\\n') # tampilkan hanya sampe 5 bari dengan 4 atribut default (kolom)\n",
    "print('binary target \\n',binary_target, '\\n') # berisi target class\n",
    "print('iris_2d \\n',iris_2d[:5], '\\n') # kita hanya mengamil atribut/kolom kedua dan ketiga sebagai placeholder inputannya\n",
    "\n",
    "# berapa ukurannya ?\n",
    "print('iris = ',iris['data'].shape, '\\n')\n",
    "print('binary target = ',binary_target.shape, '\\n')\n",
    "print('iris_2d = ',iris_2d.shape, '\\n')"
   ]
  },
  {
   "cell_type": "code",
   "execution_count": 5,
   "metadata": {},
   "outputs": [],
   "source": [
    "batch_size = 20 # Tentukan jumlah batch size, nanti ini akan dijadikan inisialisasi index saat forward propagate sebagai array\n",
    "\n",
    "# inisialisasi variable inputan x1,x2 dan terget, klo placeholder itu, nilainya akan dimasukan ke dalam variabel saat\n",
    "# sess.run(feed_dict={}) dijalankan\n",
    "\n",
    "x1_data = tf.placeholder(shape=[None, 1], dtype=tf.float32) \n",
    "x2_data = tf.placeholder(shape=[None, 1], dtype=tf.float32) # inisialisasi variable inputan x2\n",
    "y_target = tf.placeholder(shape=[None, 1], dtype=tf.float32) # inisialisasi variable y_target\n",
    "A = tf.Variable(tf.random_normal(shape=[1,1])) # inisialisasi variable untuk bobot \n",
    "b = tf.Variable(tf.random_normal(shape=[1,1])) # inisialisasi variable untuk bias\n",
    "\n",
    "# perlu diperhatikan bahwa ukuran atau shape itu sangat penting. harus perhatikan shapenya.\n",
    "# None pada shape itu maksudnya kita bisa memasukan nilai berapa saja nanti, dengan kondisi di awal kita nggak \n",
    "# tahu berapa nilai yang kita mau masukan"
   ]
  },
  {
   "cell_type": "code",
   "execution_count": 6,
   "metadata": {},
   "outputs": [],
   "source": [
    "# sebelum memulai operasi computation graph (tensor flowing), maka wajib yang namanya menjalankan/\n",
    "# menginisialisasi variable seperti di bawah ini\n",
    "init = tf.global_variables_initializer()\n",
    "sess.run(init)"
   ]
  },
  {
   "cell_type": "code",
   "execution_count": 7,
   "metadata": {},
   "outputs": [],
   "source": [
    "my_mult = tf.matmul(x2_data, A) # operasi matrix multiplication antara placeholder x2_data dengan variable A\n",
    "my_add = tf.add(my_mult, b)  # hasil dari matrix multiplication tadi akan ditambahkan dengan variable bias (b)\n",
    "my_output = tf.subtract(x1_data, my_add) # hasil penjumlahan itu akan dikurangkan dengan placeholder x1_data"
   ]
  },
  {
   "cell_type": "code",
   "execution_count": 8,
   "metadata": {},
   "outputs": [],
   "source": [
    "# Menggunakan loss function sigmoid cross entropy with logits\n",
    "xentropy = tf.nn.sigmoid_cross_entropy_with_logits(logits=my_output, labels=y_target)"
   ]
  },
  {
   "cell_type": "code",
   "execution_count": 9,
   "metadata": {},
   "outputs": [],
   "source": [
    "# mengatur hyperparameter untuk keperluan perbaikan nilai bobot dan loss\n",
    "# gradientdescen untuk mengatasi dan mengecilkan error loss yang dihasilkan terhadap target\n",
    "my_optim = tf.train.GradientDescentOptimizer(0.05)\n",
    "# menyiapkan optimizer untuk memulai proses backpropagation\n",
    "optim_step = my_optim.minimize(xentropy)"
   ]
  },
  {
   "cell_type": "code",
   "execution_count": 10,
   "metadata": {},
   "outputs": [
    {
     "name": "stdout",
     "output_type": "stream",
     "text": [
      "step # 200, A = [[8.51893]] , b = [[-3.520293]]\n",
      "step # 400, A = [[10.119286]] , b = [[-4.6518483]]\n",
      "step # 600, A = [[11.094096]] , b = [[-5.3467336]]\n",
      "step # 800, A = [[11.8139925]] , b = [[-5.9084077]]\n",
      "step # 1000, A = [[12.358901]] , b = [[-6.38801]]\n"
     ]
    }
   ],
   "source": [
    "# memulai training\n",
    "for i in range(1000): # 1000 looping atau perulangan\n",
    "    index_rand = np.random.choice(len(iris_2d), size=batch_size) # mengenerate array bertipe int sebanyak jumlah batch sizenya dengan rentang data panjang dari iris_2d\n",
    "    rand_x = iris_2d[index_rand] # memanggil index dari iris_2d agar disimpan ke variable rand_x\n",
    "    rand_x1 = np.array([ [x[0] ] for x in rand_x ]) # generate data array dari rand_x\n",
    "    rand_x2 = np.array([ [x[1] ] for x in rand_x ]) # generate data array dari rand_x\n",
    "    rand_y = np.array([ [y] for y in binary_target[ index_rand ]]) # geerate data dari data binary_target di atas\n",
    "    sess.run(optim_step, feed_dict={x1_data : rand_x1, x2_data : rand_x2, y_target : rand_y}) # start bacpropogate\n",
    "    if (i+1)%200 == 0 : # kita mau tampilkan iterasi setiap looping ke 200\n",
    "        # tampilkan nilai variable A dan nilai dari bias\n",
    "        print('step # '+str(i+1)+', A = '+str(sess.run(A)) + ' , b = ' + str(sess.run(b)))"
   ]
  },
  {
   "cell_type": "code",
   "execution_count": 14,
   "metadata": {},
   "outputs": [],
   "source": [
    "# membuat garis slope atau miring untuk memisahkan kedua jenis iris\n",
    "[[slope]] = sess.run(A)\n",
    "[[intercept]] = sess.run(b)\n",
    "x = np.linspace(0, 3, num=50) # generate angka dari 0 sampai 3 sebanyak 50\n",
    "ablineValues = [] # siapkan array untuk menampung dari slope dan intercept\n",
    "for i in x:\n",
    "    ablineValues.append(slope * i + intercept)"
   ]
  },
  {
   "cell_type": "code",
   "execution_count": 18,
   "metadata": {},
   "outputs": [
    {
     "name": "stdout",
     "output_type": "stream",
     "text": [
      "[-6.388010025024414, -5.631342615400042, -4.87467520577567, -4.118007796151298, -3.3613403865269254, -2.604672976902553, -1.8480055672781814, -1.0913381576538086, -0.33467074802943664, 0.4219966615949353, 1.1786640712193082, 1.9353314808436792, 2.691998890468051, 3.448666300092425, 4.205333709716797, 4.962001119341169, 5.718668528965541, 6.4753359385899145, 7.232003348214285, 7.988670757838657, 8.74533816746303, 9.5020055770874, 10.258672986711773, 11.015340396336146, 11.772007805960516, 12.52867521558489, 13.285342625209264, 14.042010034833638, 14.798677444458008, 15.555344854082378, 16.31201226370675, 17.068679673331122, 17.825347082955496, 18.582014492579866, 19.338681902204243, 20.095349311828613, 20.852016721452983, 21.608684131077357, 22.365351540701727, 23.122018950326098, 23.878686359950475, 24.635353769574845, 25.392021179199215, 26.14868858882359, 26.90535599844796, 27.66202340807233, 28.418690817696707, 29.175358227321077, 29.932025636945447, 30.688693046569824]\n"
     ]
    }
   ],
   "source": [
    "print(ablineValues)"
   ]
  },
  {
   "cell_type": "code",
   "execution_count": 20,
   "metadata": {},
   "outputs": [],
   "source": [
    "setosa_x = [a[1] for i,a in enumerate(iris_2d) if binary_target[i]==1]\n",
    "setosa_y = [a[0] for i,a in enumerate(iris_2d) if binary_target[i]==1]\n",
    "non_setosa_x = [a[1] for i,a in enumerate(iris_2d) if binary_target[i]==0]\n",
    "non_setosa_y = [a[0] for i,a in enumerate(iris_2d) if binary_target[i]==0]"
   ]
  },
  {
   "cell_type": "code",
   "execution_count": 46,
   "metadata": {},
   "outputs": [
    {
     "data": {
      "text/plain": [
       "array([0.2, 0.2, 0.2, 0.2, 0.2, 0.4, 0.3, 0.2, 0.2, 0.1, 0.2, 0.2, 0.1,\n",
       "       0.1, 0.2, 0.4, 0.4, 0.3, 0.3, 0.3, 0.2, 0.4, 0.2, 0.5, 0.2, 0.2,\n",
       "       0.4, 0.2, 0.2, 0.2, 0.2, 0.4, 0.1, 0.2, 0.1, 0.2, 0.2, 0.1, 0.2,\n",
       "       0.2, 0.3, 0.3, 0.2, 0.6, 0.4, 0.3, 0.2, 0.2, 0.2, 0.2])"
      ]
     },
     "execution_count": 46,
     "metadata": {},
     "output_type": "execute_result"
    }
   ],
   "source": [
    "np.array([a[1] for i,a in enumerate(iris_2d) if binary_target[i]==1])"
   ]
  },
  {
   "cell_type": "code",
   "execution_count": 35,
   "metadata": {},
   "outputs": [
    {
     "name": "stdout",
     "output_type": "stream",
     "text": [
      "isi iris2d : \n",
      " [[1.4 0.2]\n",
      " [1.4 0.2]\n",
      " [1.3 0.2]\n",
      " [1.5 0.2]\n",
      " [1.4 0.2]] \n",
      "\n",
      "setosa_x      :  [0.2, 0.2, 0.2, 0.2, 0.2]\n",
      "setosa_y      :  [1.4, 1.4, 1.3, 1.5, 1.4]\n",
      "non_setosa_x  :  [1.4, 1.5, 1.5, 1.3, 1.5]\n",
      "non_setosa_y  :  [4.7, 4.5, 4.9, 4.0, 4.6]\n",
      "\n",
      "binary target :  [1. 1. 1. 1. 1.]\n"
     ]
    }
   ],
   "source": [
    "print('isi iris2d : \\n', iris_2d[:5], '\\n')\n",
    "print('setosa_x      : ', setosa_x[:5])\n",
    "print('setosa_y      : ', setosa_y[:5])\n",
    "print('non_setosa_x  : ', non_setosa_x[:5])\n",
    "print('non_setosa_y  : ', non_setosa_y[:5])\n",
    "print()\n",
    "print('binary target : ',binary_target[:5])"
   ]
  },
  {
   "cell_type": "code",
   "execution_count": 21,
   "metadata": {},
   "outputs": [
    {
     "data": {
      "image/png": "[encoded data removed]",
      "text/plain": [
       "<Figure size 432x288 with 1 Axes>"
      ]
     },
     "metadata": {},
     "output_type": "display_data"
    }
   ],
   "source": [
    "plt.plot(setosa_x, setosa_y, 'rx', ms=10, mew=2, label='setosa''')\n",
    "plt.plot(non_setosa_x, non_setosa_y, 'bo', label='Non-setosa')\n",
    "# plt.plot(x, ablineValues, 'b-')\n",
    "plt.xlim([0.0, 2.7])\n",
    "plt.ylim([0.0, 7.1])\n",
    "# plt.suptitle('Linear', Separator For I.setosa', fontsize=20)\n",
    "plt.xlabel('Petal Length')\n",
    "plt.ylabel('Petal Width')\n",
    "plt.legend(loc='lower right')\n",
    "plt.show()"
   ]
  },
  {
   "cell_type": "markdown",
   "metadata": {},
   "source": [
    "### EVALUATING THE MODEL"
   ]
  },
  {
   "cell_type": "code",
   "execution_count": null,
   "metadata": {},
   "outputs": [],
   "source": []
  }
 ],
 "metadata": {
  "kernelspec": {
   "display_name": "Python 3",
   "language": "python",
   "name": "python3"
  },
  "language_info": {
   "codemirror_mode": {
    "name": "ipython",
    "version": 3
   },
   "file_extension": ".py",
   "mimetype": "text/x-python",
   "name": "python",
   "nbconvert_exporter": "python",
   "pygments_lexer": "ipython3",
   "version": "3.6.5"
  }
 },
 "nbformat": 4,
 "nbformat_minor": 2
}
